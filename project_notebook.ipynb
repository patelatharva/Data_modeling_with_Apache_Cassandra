{
 "cells": [
  {
   "cell_type": "markdown",
   "metadata": {},
   "source": [
    "# Data Modelling in Apache Cassandra NoSQL Database\n",
    "For answering specific types of queries requested by analytics team on user's activity on a music streaming app"
   ]
  },
  {
   "cell_type": "markdown",
   "metadata": {},
   "source": [
    "#### Import Python packages "
   ]
  },
  {
   "cell_type": "code",
   "execution_count": 1,
   "metadata": {},
   "outputs": [],
   "source": [
    "# Import Python packages \n",
    "import pandas as pd\n",
    "import cassandra\n",
    "import re\n",
    "import os\n",
    "import glob\n",
    "import numpy as np\n",
    "import json\n",
    "import csv"
   ]
  },
  {
   "cell_type": "markdown",
   "metadata": {},
   "source": [
    "#### Creating list of filepaths to process original event csv data files"
   ]
  },
  {
   "cell_type": "code",
   "execution_count": 2,
   "metadata": {},
   "outputs": [
    {
     "name": "stdout",
     "output_type": "stream",
     "text": [
      "Current working directory: /home/workspace\n"
     ]
    }
   ],
   "source": [
    "# checking current working directory\n",
    "print(\"Current working directory:\", os.getcwd())\n",
    "\n",
    "# Get current folder and subfolder event data\n",
    "filepath = os.getcwd() + '/event_data'\n",
    "\n",
    "# Creating a list of files and collect each filepath\n",
    "for root, dirs, files in os.walk(filepath):    \n",
    "    # join the file path and roots with the subdirectories using glob\n",
    "    file_path_list = glob.glob(os.path.join(root,'*'))\n",
    "    #print(file_path_list)"
   ]
  },
  {
   "cell_type": "markdown",
   "metadata": {},
   "source": [
    "#### Processing the files to create the data file csv that will be used for Apache Casssandra tables"
   ]
  },
  {
   "cell_type": "code",
   "execution_count": 3,
   "metadata": {},
   "outputs": [
    {
     "name": "stdout",
     "output_type": "stream",
     "text": [
      "Total number of rows in files 8056\n"
     ]
    }
   ],
   "source": [
    "# initiating an empty list of rows that will be generated from each file\n",
    "full_data_rows_list = [] \n",
    "    \n",
    "# for every filepath in the file path list \n",
    "for f in file_path_list:\n",
    "\n",
    "# reading csv file \n",
    "    with open(f, 'r', encoding = 'utf8', newline='') as csvfile: \n",
    "        # creating a csv reader object \n",
    "        csvreader = csv.reader(csvfile) \n",
    "        next(csvreader)\n",
    "        \n",
    " # extracting each data row one by one and append it        \n",
    "        for line in csvreader:\n",
    "            #print(line)\n",
    "            full_data_rows_list.append(line) \n",
    "            \n",
    "\n",
    "print(\"Total number of rows in files\", len(full_data_rows_list))\n",
    "\n",
    "# creating a smaller event data csv file called event_datafile_full csv that will be used to insert data into the \\\n",
    "# Apache Cassandra tables\n",
    "csv.register_dialect('myDialect', quoting=csv.QUOTE_ALL, skipinitialspace=True)\n",
    "\n",
    "with open('event_datafile_new.csv', 'w', encoding = 'utf8', newline='') as f:\n",
    "    writer = csv.writer(f, dialect='myDialect')\n",
    "    writer.writerow(['artist','firstName','gender','itemInSession','lastName','length',\\\n",
    "                'level','location','sessionId','song','userId'])\n",
    "    for row in full_data_rows_list:\n",
    "        if (row[0] == ''):\n",
    "            continue\n",
    "        writer.writerow((row[0], row[2], row[3], row[4], row[5], row[6], row[7], row[8], row[12], row[13], row[16]))\n"
   ]
  },
  {
   "cell_type": "code",
   "execution_count": 4,
   "metadata": {},
   "outputs": [
    {
     "name": "stdout",
     "output_type": "stream",
     "text": [
      "Number of rows in event_datafile_new.csv: 6821\n"
     ]
    }
   ],
   "source": [
    "#checking number of rows in csv file\n",
    "with open('event_datafile_new.csv', 'r', encoding = 'utf8') as f:\n",
    "    print(\"Number of rows in event_datafile_new.csv:\", sum(1 for line in f))"
   ]
  },
  {
   "cell_type": "markdown",
   "metadata": {},
   "source": [
    "The <font color=green>**event_datafile_new.csv**</font> contains the following columns: \n",
    "- artist \n",
    "- firstName of user\n",
    "- gender of user\n",
    "- item number in session\n",
    "- last name of user\n",
    "- length of the song\n",
    "- level (paid or free song)\n",
    "- location of the user\n",
    "- sessionId\n",
    "- song title\n",
    "- userId\n",
    "\n",
    "The image below is a screenshot of what the denormalized data appears like in the <font color=green>**event_datafile_new.csv**</font> after the code above is run:<br>\n",
    "\n",
    "<img src=\"images/image_event_datafile_new.jpg\">"
   ]
  },
  {
   "cell_type": "markdown",
   "metadata": {},
   "source": [
    "## Creating and loading tables in Apache Cassandra"
   ]
  },
  {
   "cell_type": "markdown",
   "metadata": {},
   "source": [
    "#### Creating a Cluster"
   ]
  },
  {
   "cell_type": "code",
   "execution_count": 5,
   "metadata": {},
   "outputs": [],
   "source": [
    "# Making connection to Cassandra on local machine\n",
    "# (127.0.0.1)\n",
    "\n",
    "from cassandra.cluster import Cluster\n",
    "cluster = Cluster()\n",
    "\n",
    "# Starting a session to establish connection and begin executing queries\n",
    "session = cluster.connect()"
   ]
  },
  {
   "cell_type": "markdown",
   "metadata": {},
   "source": [
    "#### Setting up Keyspace"
   ]
  },
  {
   "cell_type": "code",
   "execution_count": 6,
   "metadata": {},
   "outputs": [],
   "source": [
    "try:\n",
    "    session.execute(\"\"\"\n",
    "    CREATE KEYSPACE IF NOT EXISTS ath \n",
    "    WITH REPLICATION = \n",
    "    { 'class' : 'SimpleStrategy', 'replication_factor' : 1 }\"\"\"\n",
    "    )\n",
    "    session.set_keyspace('ath')\n",
    "except Exception as e:\n",
    "    print(e)"
   ]
  },
  {
   "cell_type": "markdown",
   "metadata": {},
   "source": [
    "### Create tables and queries to ask the following three questions of the data\n",
    "\n",
    "##### 1. Get artist, song title and song's length in the music app history that was heard during  sessionId = 338, and itemInSession  = 4\n",
    "\n",
    "\n",
    "##### 2. Get only the following: name of artist, song (sorted by itemInSession) and user (first and last name) for userid = 10, sessionid = 182\n",
    "    \n",
    "\n",
    "##### 3. Get every user name (first and last) in my music app history who listened to the song 'All Hands Against His Own'\n",
    "\n",
    "\n"
   ]
  },
  {
   "cell_type": "markdown",
   "metadata": {},
   "source": [
    "## Task 1\n",
    "#### Get the artist, song title and song's length in the music app history that was heard during sessionId = 338, and itemInSession = 4  \n",
    "\n",
    "* For handling this type of queries, I created a table with session_id set as partition key and (session_id, item_in_session) as composite primary key. While session_id alone is not sufficient to uniquely identify the rows in this, the composite of session_id and item_in_session will serve purpose.\n",
    "* I included other attributes related to song like title, artist and song's length into table as they are expected by this type of query in the results."
   ]
  },
  {
   "cell_type": "code",
   "execution_count": 7,
   "metadata": {},
   "outputs": [
    {
     "name": "stdout",
     "output_type": "stream",
     "text": [
      "Artist: Faithless , Song: Music Matters (Mark Knight Dub) , Song length: 495.30731201171875\n"
     ]
    }
   ],
   "source": [
    "# Creating table modeled to handle this specific type of query\n",
    "create_table_query = \"\"\"\n",
    "    CREATE TABLE IF NOT EXISTS songs_played_in_session (\n",
    "        session_id int,\n",
    "        item_in_session int,\n",
    "        song_title text,\n",
    "        artist text,\n",
    "        song_length float,\n",
    "        PRIMARY KEY (session_id, item_in_session)\n",
    "    );\n",
    "\"\"\"\n",
    "try:\n",
    "    session.execute(create_table_query)\n",
    "except Exception as e:\n",
    "    print(e)     \n",
    "\n",
    "# Loading data into table from csv file \n",
    "file = 'event_datafile_new.csv'\n",
    "\n",
    "with open(file, encoding = 'utf8') as f:\n",
    "    csvreader = csv.reader(f)\n",
    "    next(csvreader) # skip header\n",
    "    for line in csvreader:\n",
    "        query = \"INSERT INTO songs_played_in_session (session_id, item_in_session, song_title, artist, song_length) \"\n",
    "        query = query + \"VALUES (%s, %s, %s, %s, %s)\"        \n",
    "        session.execute(query, (int(line[8]), int(line[3]), line[9], line[0], float(line[5])))\n",
    "        \n",
    "# Executing a SELECT query to verify that the data have been inserted into each table        \n",
    "query = \"\"\"\n",
    "    SELECT artist, song_title, song_length \n",
    "    FROM songs_played_in_session\n",
    "    WHERE session_id=%s AND item_in_session = %s\n",
    "\"\"\"\n",
    "try:\n",
    "    rows = session.execute(query, (338, 4))\n",
    "except Exception as e:\n",
    "    print(e)\n",
    "    \n",
    "for row in rows:\n",
    "    print (\"Artist:\", row.artist, \", Song:\", row.song_title, \", Song length:\", row.song_length)"
   ]
  },
  {
   "cell_type": "markdown",
   "metadata": {},
   "source": [
    "## Task 2\n",
    "#### Get only the following: name of artist, song (sorted by itemInSession) and user (first and last name) for userid = 10, sessionid = 182\n",
    "\n",
    "* For handling this type of queries, I created a table with (user_id, session_id) set as partition key and (session_id, item_in_session, item_in_session) as composite primary key.\n",
    "* As this type of query is expecting results from from one specific session_id that is always supposed to be passed to the query as an argument, it was unnecessary to use it as clustering column. Therefore I chose to use it in partition key along with user_id, to help the database distribute the data across larger number of partitions through wider pool of hash values that would be generated from partition keys composed of user_id and session_id.\n",
    "* As the query expects the results sorted by item_in_session attribute, I included it as clustering column in the primary key.\n",
    "* I included other attributes related to song like title, artist and listener's first and last name into table as they are expected by this type of query in the results.\n"
   ]
  },
  {
   "cell_type": "code",
   "execution_count": 8,
   "metadata": {},
   "outputs": [
    {
     "name": "stdout",
     "output_type": "stream",
     "text": [
      "Artist: Down To The Bone , Song: Keep On Keepin' On , User first name: Sylvie , User last name: Cruz\n",
      "Artist: Three Drives , Song: Greece 2000 , User first name: Sylvie , User last name: Cruz\n",
      "Artist: Sebastien Tellier , Song: Kilometer , User first name: Sylvie , User last name: Cruz\n",
      "Artist: Lonnie Gordon , Song: Catch You Baby (Steve Pitron & Max Sanna Radio Edit) , User first name: Sylvie , User last name: Cruz\n"
     ]
    }
   ],
   "source": [
    "# Creating table modeled to handle this specific type of query\n",
    "create_table_query = \"\"\"\n",
    "    CREATE TABLE IF NOT EXISTS song_playlist_session (\n",
    "        user_id text,\n",
    "        session_id int,\n",
    "        item_in_session int,\n",
    "        artist text,\n",
    "        song_title text,\n",
    "        user_first_name text,\n",
    "        user_last_name text,\n",
    "        PRIMARY KEY ((user_id, session_id), item_in_session)\n",
    "    );\n",
    "\"\"\"\n",
    "try:\n",
    "    session.execute(create_table_query)\n",
    "except Exception as e:\n",
    "    print(e)             \n",
    "    \n",
    "# Loading data into table from csv file \n",
    "file = 'event_datafile_new.csv'\n",
    "with open(file, encoding = 'utf8') as f:\n",
    "    csvreader = csv.reader(f)\n",
    "    next(csvreader) # skip header\n",
    "    for line in csvreader:\n",
    "        query = \"INSERT INTO song_playlist_session (session_id, item_in_session, song_title, artist, user_first_name, user_last_name, user_id) \"\n",
    "        query = query + \"VALUES (%s, %s, %s, %s, %s, %s, %s)\"\n",
    "        session.execute(query, (int(line[8]), int(line[3]), line[9], line[0], line[1], line[4], line[10]))\n",
    "\n",
    "# Executing a SELECT query to verify that the data have been inserted into each table                \n",
    "query = \"\"\"\n",
    "    SELECT artist, song_title, user_first_name, user_last_name \n",
    "    FROM song_playlist_session\n",
    "    WHERE user_id=%s AND session_id=%s\n",
    "\"\"\"\n",
    "try:\n",
    "    rows = session.execute(query, (\"10\", 182))\n",
    "except Exception as e:\n",
    "    print(e)\n",
    "    \n",
    "for row in rows:\n",
    "    print (\"Artist:\", row.artist, \", Song:\", row.song_title, \", User first name:\", row.user_first_name, \", User last name:\", row.user_last_name)\n",
    "\n",
    "                    "
   ]
  },
  {
   "cell_type": "markdown",
   "metadata": {},
   "source": [
    "## Task 3\n",
    "####  Get every user name (first and last) in my music app history who listened to the song 'All Hands Against His Own'\n",
    "\n",
    "* For handling this type of queries, I created a table with song_title set as partition key and (song_title, user_id) as composite primary key. The combination of song_title and user_id will help uniquely identify the rows for table that contains data about the users who have listened each of the songs.\n",
    "* As the query expects to get names of all the users who listen to specified song title and therefore does not receive user_id as an argument to query, user_id can not be included in partition key.\n",
    "* I included other attributes related to song like title, artist and listener's first and last name into table as they are expected by this type of query in the results."
   ]
  },
  {
   "cell_type": "code",
   "execution_count": 9,
   "metadata": {},
   "outputs": [
    {
     "name": "stdout",
     "output_type": "stream",
     "text": [
      "User first name: Jacqueline , User last name: Lynch\n",
      "User first name: Tegan , User last name: Levine\n",
      "User first name: Sara , User last name: Johnson\n"
     ]
    }
   ],
   "source": [
    "# Creating table modeled to handle this specific type of query\n",
    "create_table_query = \"\"\"\n",
    "    CREATE TABLE IF NOT EXISTS song_listeners (\n",
    "        song_title text,\n",
    "        user_id text,        \n",
    "        user_first_name text,\n",
    "        user_last_name text,\n",
    "        PRIMARY KEY (song_title, user_id)\n",
    "    );\n",
    "\"\"\"\n",
    "try:\n",
    "    session.execute(create_table_query)\n",
    "except Exception as e:\n",
    "    print(e)                   \n",
    "\n",
    "# Loading data into table from csv file \n",
    "file = 'event_datafile_new.csv'   \n",
    "\n",
    "with open(file, encoding = 'utf8') as f:\n",
    "    csvreader = csv.reader(f)\n",
    "    next(csvreader) # skip header\n",
    "    for line in csvreader:\n",
    "        query = \"INSERT INTO song_listeners (song_title, user_id,  user_first_name, user_last_name) \"\n",
    "        query = query + \"VALUES (%s, %s, %s, %s)\"\n",
    "        session.execute(query, ( line[9], line[10],  line[1], line[4]))\n",
    "        \n",
    "# Executing a SELECT query to verify that the data have been inserted into each table                        \n",
    "query = \"\"\"\n",
    "    SELECT user_first_name, user_last_name \n",
    "    FROM song_listeners\n",
    "    WHERE song_title=%s\n",
    "\"\"\"\n",
    "try:\n",
    "    rows = session.execute(query, (\"All Hands Against His Own\",))\n",
    "except Exception as e:\n",
    "    print(e)\n",
    "    \n",
    "for row in rows:\n",
    "    print (\"User first name:\", row.user_first_name, \", User last name:\", row.user_last_name)\n",
    "                    "
   ]
  },
  {
   "cell_type": "markdown",
   "metadata": {},
   "source": [
    "### Dropping the tables before closing out the sessions"
   ]
  },
  {
   "cell_type": "code",
   "execution_count": 10,
   "metadata": {},
   "outputs": [],
   "source": [
    "try:\n",
    "    session.execute(\"DROP TABLE IF EXISTS table1\")\n",
    "    session.execute(\"DROP TABLE IF EXISTS table2\")\n",
    "    session.execute(\"DROP TABLE IF EXISTS table3\")\n",
    "except Exception as e:\n",
    "    print (e)\n",
    "        "
   ]
  },
  {
   "cell_type": "markdown",
   "metadata": {},
   "source": [
    "### Close the session and cluster connection¶"
   ]
  },
  {
   "cell_type": "code",
   "execution_count": 11,
   "metadata": {},
   "outputs": [],
   "source": [
    "session.shutdown()\n",
    "cluster.shutdown()"
   ]
  }
 ],
 "metadata": {
  "kernelspec": {
   "display_name": "Python 3",
   "language": "python",
   "name": "python3"
  },
  "language_info": {
   "codemirror_mode": {
    "name": "ipython",
    "version": 3
   },
   "file_extension": ".py",
   "mimetype": "text/x-python",
   "name": "python",
   "nbconvert_exporter": "python",
   "pygments_lexer": "ipython3",
   "version": "3.6.3"
  }
 },
 "nbformat": 4,
 "nbformat_minor": 2
}
